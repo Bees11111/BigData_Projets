{
 "cells": [
  {
   "cell_type": "markdown",
   "metadata": {},
   "source": [
    "# Projet n°2 - Map Reduce\n",
    "\n",
    "Elyes KHALFALLAH - 5230635\n",
    "\n",
    "(Tips du prof pour un bon CV : maitriser Spark et Hadoop)\n",
    "\n",
    "---\n"
   ]
  },
  {
   "cell_type": "markdown",
   "metadata": {},
   "source": [
    "IL FAUT UTILISER LA BIBLIOTHEQUE `multiprocess` ET NON `multiprocessing` DANS UN NOTEBOOK.\n"
   ]
  },
  {
   "cell_type": "code",
   "execution_count": 1,
   "metadata": {},
   "outputs": [],
   "source": [
    "import time\n",
    "import re\n",
    "\n",
    "from multiprocess import Pool, cpu_count\n",
    "from collections import Counter, defaultdict\n",
    "from tqdm import tqdm\n",
    "from functools import reduce\n",
    "\n",
    "import matplotlib.pyplot as plt\n",
    "import numpy as np\n",
    "import seaborn as sns\n",
    "\n",
    "\n",
    "# from multiprocessing import Pool, cpu_count  # Cause 4 heures de débuggage inutile\n",
    "\n",
    "\n",
    "file_path = \"small-txt.txt\"\n",
    "file_path = \"large-txt.txt\"\n"
   ]
  },
  {
   "cell_type": "markdown",
   "metadata": {},
   "source": [
    "Avant de commencer, il est important de préprocesser le texte pour avoir une stratégie uniforme dans notre compte de mots; on veut eviter de compter \"oui\", \"Oui\", et \"oui.\" comme des mots différents. Pour cela, `preprocess_text` prend en paramètre le chemin du fichier texte et retourne le texte sans symboles, et en minuscule.\n"
   ]
  },
  {
   "cell_type": "code",
   "execution_count": 2,
   "metadata": {},
   "outputs": [],
   "source": [
    "def preprocess_text(file_path):\n",
    "    with open(file_path, \"r\") as file:\n",
    "        text = file.read()\n",
    "\n",
    "    # Enlève tout symbole qui n'est pas une lettre ou un chiffre et met tout en minuscule\n",
    "    text = re.sub(r\"[^A-Za-z0-9\\s]\", \"\", text).lower()\n",
    "\n",
    "    # Remplace les espaces multiples par un seul espace\n",
    "    text = re.sub(r\"\\s+\", \" \", text)\n",
    "\n",
    "    return text\n",
    "\n",
    "\n",
    "# 15s environ\n",
    "preprocessed_text = preprocess_text(file_path)\n"
   ]
  },
  {
   "cell_type": "code",
   "execution_count": 3,
   "metadata": {},
   "outputs": [
    {
     "name": "stdout",
     "output_type": "stream",
     "text": [
      "jurgen annevelink modern database systems object sql a language for the design and implementation of object databases 1995 rafiul ahad modern database systems object sql a language for the design and \n"
     ]
    }
   ],
   "source": [
    "# Imprime les 200 premiers characters du text préprocessé\n",
    "print(preprocessed_text[:200])\n"
   ]
  },
  {
   "cell_type": "markdown",
   "metadata": {},
   "source": [
    "Maintenant, nous allons compter les itérations de chaque mot dans le texte préprocessé, tout en comptant le temps prit pour faire cela\n",
    "\n",
    "Nous ferons cela en deux parties : une premiere codée à la main, et une deuxième en utilisant une bibliothèque nous permettant de compter en moins de lignes de code (histoire de comparer nos résultats)\n"
   ]
  },
  {
   "cell_type": "code",
   "execution_count": 4,
   "metadata": {},
   "outputs": [],
   "source": [
    "# Fonction de compte écrite sans utiliser Counter\n",
    "def count_word_occurrences(given_text):\n",
    "    # Démarrer le minuteur\n",
    "    start_time = time.time()\n",
    "\n",
    "    # Diviser le texte en mots\n",
    "    words = given_text.split()\n",
    "    word_count = {}\n",
    "\n",
    "    # Compter le nombre d'occurrences de chaque mot\n",
    "    for word in words:\n",
    "        if word in word_count:\n",
    "            word_count[word] += 1\n",
    "        else:\n",
    "            word_count[word] = 1\n",
    "\n",
    "    # Arrêter le minuteur et calculer le temps écoulé\n",
    "    end_time = time.time()\n",
    "    elapsed_time = end_time - start_time\n",
    "\n",
    "    return word_count, elapsed_time\n"
   ]
  },
  {
   "cell_type": "code",
   "execution_count": 5,
   "metadata": {},
   "outputs": [
    {
     "name": "stdout",
     "output_type": "stream",
     "text": [
      "Temps pris: 5.68749 s, soit 5687.49 ms\n"
     ]
    }
   ],
   "source": [
    "word_count, elapsed_time_no_counter = count_word_occurrences(preprocessed_text)\n",
    "\n",
    "print(\n",
    "    f\"Temps pris: {elapsed_time_no_counter:.5f} s, soit {elapsed_time_no_counter*1000:.2f} ms\"\n",
    ")\n",
    "\n",
    "if file_path == \"small-txt.txt\":\n",
    "    print(f\"\\nNombre d'occurrences des mots :\\n{word_count}\")\n"
   ]
  },
  {
   "cell_type": "code",
   "execution_count": 6,
   "metadata": {},
   "outputs": [],
   "source": [
    "# Fonction de compte écrite en utilisant Counter\n",
    "def count_word_occurrences_with_counter(preprocessed_text):\n",
    "    # Démarrer le minuteur\n",
    "    start_time = time.time()\n",
    "\n",
    "    # Diviser le texte en mots\n",
    "    words = preprocessed_text.split()\n",
    "\n",
    "    # Compter le nombre d'occurrences de chaque mot\n",
    "    word_count = Counter(words)\n",
    "\n",
    "    # Arrêter le minuteur et calculer le temps écoulé\n",
    "    end_time = time.time()\n",
    "    elapsed_time = end_time - start_time\n",
    "\n",
    "    return word_count, elapsed_time\n"
   ]
  },
  {
   "cell_type": "code",
   "execution_count": 7,
   "metadata": {},
   "outputs": [
    {
     "name": "stdout",
     "output_type": "stream",
     "text": [
      "Temps pris : 4.58097 secondes, soit 4580.97 ms\n"
     ]
    }
   ],
   "source": [
    "word_count, elapsed_time_with_counter = count_word_occurrences_with_counter(\n",
    "    preprocessed_text\n",
    ")\n",
    "\n",
    "print(\n",
    "    f\"Temps pris : {elapsed_time_with_counter:.5f} secondes, soit {elapsed_time_with_counter*1000:.2f} ms\"\n",
    ")\n",
    "\n",
    "if file_path == \"small-txt.txt\":\n",
    "    print(f\"\\nNombre d'occurrences des mots :\\n{word_count}\")\n"
   ]
  },
  {
   "cell_type": "markdown",
   "metadata": {},
   "source": [
    "Comparons maintenant les deux outils utilisés :\n",
    "\n",
    "On voit que les deux méthodes prennent presque le meme temps assez systématiquement, nous n'avons donc pas de choix particulier à faire sur l'outil prendre.\n",
    "\n",
    "---\n",
    "\n",
    "Codons maintenant notre Map, et Reduce functions\n"
   ]
  },
  {
   "cell_type": "markdown",
   "metadata": {},
   "source": [
    "Fonction de mapping : cette fonction prend un texte prétraité et produit une liste de paires clé-valeur. Chaque paire clé-valeur est un tuple où la clé est un mot unique et la valeur est 1.\n"
   ]
  },
  {
   "cell_type": "code",
   "execution_count": 8,
   "metadata": {},
   "outputs": [],
   "source": [
    "def map_function(text_chunk):\n",
    "    \"\"\"Count word frequencies for a text chunk.\"\"\"\n",
    "    word_freq = {}\n",
    "    for word in text_chunk.split():\n",
    "        word_freq[word] = word_freq.get(word, 0) + 1\n",
    "    return word_freq\n"
   ]
  },
  {
   "cell_type": "markdown",
   "metadata": {},
   "source": [
    "Fonction de réduction : cette fonction prend une liste de paires clé-valeur et produit un dictionnaire\n"
   ]
  },
  {
   "cell_type": "code",
   "execution_count": 9,
   "metadata": {},
   "outputs": [],
   "source": [
    "def reduce_function(counter_a, counter_b):\n",
    "    \"\"\"Merge two dictionaries of word frequencies.\"\"\"\n",
    "    for word, count in counter_b.items():\n",
    "        counter_a[word] = counter_a.get(word, 0) + count\n",
    "    return counter_a\n"
   ]
  },
  {
   "cell_type": "code",
   "execution_count": 10,
   "metadata": {},
   "outputs": [],
   "source": [
    "def split_into_chunks(data_lines, num_chunks):\n",
    "    \"\"\"\n",
    "    Splits the list of lines into num_chunks chunks.\n",
    "    \"\"\"\n",
    "    chunk_size = len(data_lines) // num_chunks\n",
    "    chunks = []\n",
    "    start = 0\n",
    "    for i in range(num_chunks):\n",
    "        if i == num_chunks - 1:\n",
    "            chunk_lines = data_lines[start:]\n",
    "        else:\n",
    "            chunk_lines = data_lines[start : start + chunk_size]\n",
    "        start += chunk_size\n",
    "        chunks.append(\" \".join(chunk_lines))\n",
    "    return chunks\n"
   ]
  },
  {
   "cell_type": "markdown",
   "metadata": {},
   "source": [
    "Vérifions combien de coeurs nous avons a disposition :\n"
   ]
  },
  {
   "cell_type": "code",
   "execution_count": 11,
   "metadata": {},
   "outputs": [
    {
     "name": "stdout",
     "output_type": "stream",
     "text": [
      "Nombre de coeurs disponibles : 20 coeurs\n",
      "(20 sur ma machine)\n"
     ]
    }
   ],
   "source": [
    "print(f\"Nombre de coeurs disponibles : {cpu_count()} coeurs\\n(20 sur ma machine)\")\n"
   ]
  },
  {
   "cell_type": "code",
   "execution_count": 12,
   "metadata": {},
   "outputs": [],
   "source": [
    "# Fonction principale\n",
    "def map_reduce_pipeline(text, num_cores):\n",
    "    \"\"\"\n",
    "    Pipeline MapReduce :\n",
    "    1. Divise les données en segments.\n",
    "    2. Applique la fonction Map à chaque segment en parallèle.\n",
    "    3. Agrège les résultats avec la fonction Reduce.\n",
    "\n",
    "    Arguments :\n",
    "    - text : texte brut à traiter.\n",
    "    - num_segments_coeurs : nombre de segments à diviser pour le traitement parallèle (aussi le nombre de coeurs a utiliser)\n",
    "\n",
    "    Retourne :\n",
    "    - Résultat final sous forme de dictionnaire contenant la fréquence des mots.\n",
    "    - Temps écoulé\n",
    "    \"\"\"\n",
    "    lines = text.split(\"\\n\")  # Process by lines, not words\n",
    "    chunks = split_into_chunks(lines, num_chunks=num_cores)\n",
    "\n",
    "    # Timing\n",
    "    start_time = time.time()\n",
    "\n",
    "    # Map\n",
    "    with Pool(processes=num_cores) as pool:\n",
    "        partial_results = pool.map(map_function, chunks)\n",
    "\n",
    "    # Reduce\n",
    "    final_result = reduce(reduce_function, partial_results)\n",
    "\n",
    "    elapsed_time = time.time() - start_time\n",
    "    return final_result, elapsed_time\n"
   ]
  },
  {
   "cell_type": "code",
   "execution_count": 13,
   "metadata": {},
   "outputs": [
    {
     "name": "stdout",
     "output_type": "stream",
     "text": [
      "Temps pris: 7.87000 s, soit 7870.00 ms\n"
     ]
    }
   ],
   "source": [
    "num_coeurs = 16  # Nombre de segments pour le traitement parallèle\n",
    "result, elapsed_time = map_reduce_pipeline(preprocessed_text, num_coeurs)\n",
    "\n",
    "print(f\"Temps pris: {elapsed_time:.5f} s, soit {elapsed_time*1000:.2f} ms\")\n"
   ]
  },
  {
   "cell_type": "markdown",
   "metadata": {},
   "source": [
    "Maintenant que nous avons un code qui fonctionne, faisons des plots\n"
   ]
  },
  {
   "cell_type": "code",
   "execution_count": 14,
   "metadata": {},
   "outputs": [],
   "source": [
    "def evaluate_map_reduce_performance(text, min_cores=1, max_cores=4, trials_per_core=5):\n",
    "    \"\"\"\n",
    "    Évalue les performances de map_reduce_pipeline en utilisant un nombre variable de coeurs.\n",
    "    Il exécute la pipeline plusieurs fois par comptage de coeurs, calcule le temps moyen,\n",
    "    et visualise les résultats avec des boîtes à moustaches côte à côte.\n",
    "\n",
    "    Arguments:\n",
    "    - texte: Le texte d'entrée à traiter.\n",
    "    - min_cores: Nombre minimum de coeurs à tester\n",
    "    - max_cores: Nombre maximum de coeurs à tester\n",
    "    - trials_per_core: Nombre d'essais à exécuter par nombre de coeurs\n",
    "\n",
    "    Retours:\n",
    "    - Un dictionnaire avec des coeurs comme clés et des listes de temps écoulés comme valeurs.\n",
    "    \"\"\"\n",
    "    performance_data = {}\n",
    "\n",
    "    for cores in range(min_cores, max_cores + 1):\n",
    "        elapsed_times = []\n",
    "        print(f\"Testing with {cores} core(s)...\")\n",
    "        for _ in tqdm(range(trials_per_core), desc=f\"Runs for {cores} cores\"):\n",
    "            _, elapsed_time = map_reduce_pipeline(text, num_cores=cores)\n",
    "            elapsed_times.append(elapsed_time)\n",
    "        performance_data[cores] = elapsed_times\n",
    "\n",
    "    # Boxplot Visualization\n",
    "    plt.figure(figsize=(12, 6))\n",
    "    sns.boxplot(\n",
    "        data=[performance_data[c] for c in performance_data.keys()], palette=\"viridis\"\n",
    "    )\n",
    "    plt.xticks(ticks=np.arange(max_cores), labels=np.arange(1, max_cores + 1))\n",
    "    plt.xlabel(\"Coeurs\")\n",
    "    plt.ylabel(\"Temps (s)\")\n",
    "    plt.title(\"Performance MapReduce par nombre de coeurs\")\n",
    "    plt.show()\n",
    "\n",
    "    return performance_data\n"
   ]
  },
  {
   "cell_type": "code",
   "execution_count": 15,
   "metadata": {},
   "outputs": [
    {
     "name": "stdout",
     "output_type": "stream",
     "text": [
      "Testing with 1 core(s)...\n"
     ]
    },
    {
     "name": "stderr",
     "output_type": "stream",
     "text": [
      "Runs for 1 cores: 100%|██████████| 5/5 [00:36<00:00,  7.35s/it]\n"
     ]
    },
    {
     "name": "stdout",
     "output_type": "stream",
     "text": [
      "Testing with 2 core(s)...\n"
     ]
    },
    {
     "name": "stderr",
     "output_type": "stream",
     "text": [
      "Runs for 2 cores: 100%|██████████| 5/5 [00:37<00:00,  7.56s/it]\n"
     ]
    },
    {
     "name": "stdout",
     "output_type": "stream",
     "text": [
      "Testing with 3 core(s)...\n"
     ]
    },
    {
     "name": "stderr",
     "output_type": "stream",
     "text": [
      "Runs for 3 cores: 100%|██████████| 5/5 [00:37<00:00,  7.59s/it]\n"
     ]
    },
    {
     "name": "stdout",
     "output_type": "stream",
     "text": [
      "Testing with 4 core(s)...\n"
     ]
    },
    {
     "name": "stderr",
     "output_type": "stream",
     "text": [
      "Runs for 4 cores: 100%|██████████| 5/5 [00:37<00:00,  7.56s/it]\n"
     ]
    },
    {
     "name": "stdout",
     "output_type": "stream",
     "text": [
      "Testing with 5 core(s)...\n"
     ]
    },
    {
     "name": "stderr",
     "output_type": "stream",
     "text": [
      "Runs for 5 cores: 100%|██████████| 5/5 [00:38<00:00,  7.64s/it]\n"
     ]
    },
    {
     "name": "stdout",
     "output_type": "stream",
     "text": [
      "Testing with 6 core(s)...\n"
     ]
    },
    {
     "name": "stderr",
     "output_type": "stream",
     "text": [
      "Runs for 6 cores: 100%|██████████| 5/5 [00:38<00:00,  7.60s/it]\n"
     ]
    },
    {
     "name": "stdout",
     "output_type": "stream",
     "text": [
      "Testing with 7 core(s)...\n"
     ]
    },
    {
     "name": "stderr",
     "output_type": "stream",
     "text": [
      "Runs for 7 cores: 100%|██████████| 5/5 [00:38<00:00,  7.66s/it]\n"
     ]
    },
    {
     "name": "stdout",
     "output_type": "stream",
     "text": [
      "Testing with 8 core(s)...\n"
     ]
    },
    {
     "name": "stderr",
     "output_type": "stream",
     "text": [
      "Runs for 8 cores: 100%|██████████| 5/5 [00:38<00:00,  7.73s/it]\n"
     ]
    },
    {
     "name": "stdout",
     "output_type": "stream",
     "text": [
      "Testing with 9 core(s)...\n"
     ]
    },
    {
     "name": "stderr",
     "output_type": "stream",
     "text": [
      "Runs for 9 cores: 100%|██████████| 5/5 [00:38<00:00,  7.80s/it]\n"
     ]
    },
    {
     "name": "stdout",
     "output_type": "stream",
     "text": [
      "Testing with 10 core(s)...\n"
     ]
    },
    {
     "name": "stderr",
     "output_type": "stream",
     "text": [
      "Runs for 10 cores: 100%|██████████| 5/5 [00:39<00:00,  7.84s/it]\n"
     ]
    },
    {
     "name": "stdout",
     "output_type": "stream",
     "text": [
      "Testing with 11 core(s)...\n"
     ]
    },
    {
     "name": "stderr",
     "output_type": "stream",
     "text": [
      "Runs for 11 cores: 100%|██████████| 5/5 [00:40<00:00,  8.04s/it]\n"
     ]
    },
    {
     "name": "stdout",
     "output_type": "stream",
     "text": [
      "Testing with 12 core(s)...\n"
     ]
    },
    {
     "name": "stderr",
     "output_type": "stream",
     "text": [
      "Runs for 12 cores: 100%|██████████| 5/5 [00:38<00:00,  7.79s/it]\n"
     ]
    },
    {
     "name": "stdout",
     "output_type": "stream",
     "text": [
      "Testing with 13 core(s)...\n"
     ]
    },
    {
     "name": "stderr",
     "output_type": "stream",
     "text": [
      "Runs for 13 cores: 100%|██████████| 5/5 [00:39<00:00,  7.87s/it]\n"
     ]
    },
    {
     "name": "stdout",
     "output_type": "stream",
     "text": [
      "Testing with 14 core(s)...\n"
     ]
    },
    {
     "name": "stderr",
     "output_type": "stream",
     "text": [
      "Runs for 14 cores: 100%|██████████| 5/5 [00:39<00:00,  7.88s/it]\n"
     ]
    },
    {
     "name": "stdout",
     "output_type": "stream",
     "text": [
      "Testing with 15 core(s)...\n"
     ]
    },
    {
     "name": "stderr",
     "output_type": "stream",
     "text": [
      "Runs for 15 cores: 100%|██████████| 5/5 [00:39<00:00,  7.86s/it]\n"
     ]
    },
    {
     "name": "stdout",
     "output_type": "stream",
     "text": [
      "Testing with 16 core(s)...\n"
     ]
    },
    {
     "name": "stderr",
     "output_type": "stream",
     "text": [
      "Runs for 16 cores: 100%|██████████| 5/5 [00:39<00:00,  7.93s/it]\n"
     ]
    },
    {
     "data": {
      "image/png": "[encoded data removed]",
      "text/plain": [
       "<Figure size 1200x600 with 1 Axes>"
      ]
     },
     "metadata": {},
     "output_type": "display_data"
    }
   ],
   "source": [
    "# Run evaluation\n",
    "performance_results = evaluate_map_reduce_performance(\n",
    "    preprocessed_text, min_cores=1, max_cores=16, trials_per_core=5\n",
    ")\n"
   ]
  },
  {
   "cell_type": "markdown",
   "metadata": {},
   "source": [
    "Malheureusement, les performances se dégradent avec plus de coeurs. _In fine_, ce n'est pas très grave dans ce cas, etant donné que tous nos résultats sont autour de 6-8s, qu'ils soient avec MapReduce ou sans, avec plusieurs coeurs ou pas. Cette légère augmentation peut s'expliquer de plusieures façons :\n",
    "\n",
    "- **Surcharge de gestion des threads** : Chaque cœur supplémentaire ajoute une charge liée à la coordination et à la communication entre les processus. Lorsque le nombre de coeurs dépasse un seuil, cette surcharge peut devenir remarquable.\n",
    "- **Limites du système I/O** : Si le système d'entrée/sortie (disque ou mémoire) est sollicité intensément, il peut devenir un goulot d'étranglement. Les coeurs supplémentaires n’améliorent pas les performances lorsqu’ils attendent des données.\n",
    "- **Saturation du CPU** : Si le processeur est déjà occupé à gérer d’autres tâches ou si tous les coeurs ne sont pas physiquement disponibles (hyperthreading, par exemple), le gain est limité. Normalement, ce ne devrait pas etre le cas de mon PC.\n",
    "- **Contention pour les ressources partagées** : Plusieurs coeurs peuvent se disputer l'accès à des ressources partagées, comme la mémoire, ce qui entraîne des ralentissements.\n"
   ]
  }
 ],
 "metadata": {
  "kernelspec": {
   "display_name": "env",
   "language": "python",
   "name": "python3"
  },
  "language_info": {
   "codemirror_mode": {
    "name": "ipython",
    "version": 3
   },
   "file_extension": ".py",
   "mimetype": "text/x-python",
   "name": "python",
   "nbconvert_exporter": "python",
   "pygments_lexer": "ipython3",
   "version": "3.12.8"
  }
 },
 "nbformat": 4,
 "nbformat_minor": 2
}
